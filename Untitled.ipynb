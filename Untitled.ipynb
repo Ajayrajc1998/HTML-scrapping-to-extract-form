{
 "cells": [
  {
   "cell_type": "code",
   "execution_count": 1,
   "id": "64edd126",
   "metadata": {},
   "outputs": [],
   "source": [
    "wroking_dir='E:\\STACKER BEE\\screenshot\\HTML\\Feedback'"
   ]
  },
  {
   "cell_type": "code",
   "execution_count": 7,
   "id": "093066f2",
   "metadata": {},
   "outputs": [],
   "source": [
    "from bs4 import BeautifulSoup"
   ]
  },
  {
   "cell_type": "code",
   "execution_count": 43,
   "id": "fe3e2891",
   "metadata": {},
   "outputs": [],
   "source": [
    "target_class='prose prose-neutral prose-sm max-w-none [&>pre]:p-0 [&>pre]:rounded-lg'"
   ]
  },
  {
   "cell_type": "code",
   "execution_count": 52,
   "id": "f7cac4d1",
   "metadata": {},
   "outputs": [],
   "source": [
    "with open(\"E:\\\\STACKER BEE\\\\screenshot\\\\HTML\\\\Feedback\\\\feedback 2.html\", 'r', encoding='utf-8') as file:\n",
    "    html_content = file.read()"
   ]
  },
  {
   "cell_type": "code",
   "execution_count": 53,
   "id": "a6704565",
   "metadata": {},
   "outputs": [
    {
     "name": "stdout",
     "output_type": "stream",
     "text": [
      "\n",
      "https://newsinfo.inquirer.net/1926117/fetus-dumped-in-lucena-city-grassland\n",
      "at the link above give the following title, source, when, who and why in this news. then identify the root and result in that news issues. And to address this issues choose ONE in sociological theories https://www.structural-learning.com/post/sociology-theories and explain it using simple words and how resolve the issues by you choose in sociological theory at least 2 paragraph sentences\n"
     ]
    }
   ],
   "source": [
    "soup = BeautifulSoup(html_content, 'lxml')\n",
    "em_elements = soup.find_all('div', class_=target_class)\n",
    "for em in em_elements:\n",
    "    print(em.get_text())\n"
   ]
  },
  {
   "cell_type": "code",
   "execution_count": 57,
   "id": "6b126199",
   "metadata": {},
   "outputs": [],
   "source": [
    "def read_content(file_path,element,target_class):\n",
    "    with open(file_path, 'r', encoding='utf-8') as file:\n",
    "        html_content = file.read()\n",
    "    soup = BeautifulSoup(html_content, 'lxml')\n",
    "    em_elements = soup.find_all(element, class_=target_class)\n",
    "    for em in em_elements:\n",
    "        print(em.get_text())"
   ]
  },
  {
   "cell_type": "code",
   "execution_count": 58,
   "id": "6af59005",
   "metadata": {},
   "outputs": [
    {
     "name": "stdout",
     "output_type": "stream",
     "text": [
      "User: compress the following copy into a succinct and engaging abstract that 18 year old students can digest easily:\n",
      "I was struck recently by the difference stability makes to even some ‘intermediate’ rowers. I was coaching an eight and had been trying to correct some points of technique with one particular rower. I wasn’t making much progress until we rowed in sixes (ie with a pair of rowers keeping the boat level) when “miraculously”, the problem went away. When we went back to rowing “all eight”, the problem came back.\n",
      "Problems like this clearly stem not from ignorance of correct technique, but from an inability to apply correct technique under the ‘stress’ of an unstable boat.\n",
      "Some rowers, quite unconciously, adopt what I can only describe as a ‘defensive’ rowing style when confronted with an unstable boat. They will differ in detail, but this commonly involves leaning away from the water and shortening their stroke – which of course increases the instability of the boat. The rower and indeed the entire crew, is then caught in a vicious circle in which this unconcious response feeds on itself and makes the boat more and more unstable. The defensive rower is of course unaware that he or she is actually causing the problem they are responding to. The usually ‘feel’ that they are rowing exactly the same way whether all-eight or in sixes because their change in style is entirely unconcious, and this can make correcting the problem quite challenging.\n",
      "The solution involves breaking the vicious circle in two places. Firstly, you have to improve the stability of the boat without using two rowers to stabilize it. Then you have to stop the defensive response to instability. Both of these changes can be difficult.\n",
      "Improving the stability of the boat begins with improving the stability of the rowers themselves. I have written previously about the importance of stillness in rowing (http://bit.ly/1nuV4k5) and stillness is key to this approach. I get the rowers to focus on keeping their upper bodies perfectly still once they have reached the ‘lean forward’ position on the recovery. Their progress toward frontstops from then on is just about pulling their feet gently toward their bodies while their arms follow the arc of the blade away. I place special emphasis on not reaching forward for an extra inch or two of length at frontstops.\n",
      "The ‘stillness’ of the crew as they move into frontstops helps to stabilize the boat, but that in itself is not enough. We then have to prevent the defensive response from taking over when the boat does wobble (and I think I can guarantee that it will wobble at some point). This is where ‘trusting the boat’ is important. You have to convince the crew that if they trust the boat to remain balanced and row accordingly, then it will remain balanced. And while it remains balanced, they in turn find it easier to remain ‘still’ on the recovery. This virtuous circle is the most effective antidote to the vicious circle referred to earlier.\n",
      "How do you get nervous rowers to ‘trust the boat’? They have to use their imaginations. They have to remember how stable the boat felt while they were rowing in sixes and imagine that stability will still be there when they row ‘all eight’. Their internal visualization of a stable boat helps to maintain their correct technique throughout the stroke – and their maintenance of correct technique turns the boat’s imagined stability into reality.\n",
      "It is one of the most rewarding parts of the coaching experience to see a rower (and a boat) previously struggling with instability, make the transition to stability and to see the increase in confidence which comes with that transition. It is never of course a 100% and one-time-only transition, but once a crew have grasped the importance of ‘trusting the boat’ they can avoid sliding back into the unhappy situation of forever fighting for control of a boat which seems to fight back.\n",
      "\n",
      "Model:\n",
      "Ever feel like you're rowing perfectly, but the boat keeps rocking? You're not alone! This happens to even experienced rowers when they tense up in an unstable boat. It's a vicious cycle: tension makes the boat wobble more, which makes you tense up even more.\n",
      "The key is to break this cycle by staying relaxed and trusting the boat. Imagine how stable it felt in smaller crews, and focus on smooth movements throughout your stroke. It might feel weird at first, but this \"rowing zen\" will make you steadier and faster. Trust the boat, and it will trust you back!\n",
      "\n",
      "User: Re-organise this copy into a coherent, flowing paragraph script:\n",
      "The core function of the providers page is to sell providers, inform them, and empower them with desired and necessary information. There are issues present in the user experience for providers surrounding their ability to find and navigate to the providers area. There is a body of work which could be completed here to discover the reasoning behind why this is the case.\n",
      "\n",
      "Design Ops mentioned that there will be a new, standardised IA rolled out in the near future (specific timeframe has not been outlined). This must be considered as we go about redesigning the navigation for the Providers section, since it will most likely be changed. From a mesh perspective, the code is completely owned by Design Ops and any changes that are proposed and are within reason, can be implemented. However, considerations must be paid to the workload created for Design Ops developers and for best practice IA/UI design principles.\n",
      "\n",
      "For the header (horizontal) navigation bar, the comfortable amount of list items is between 4-5 items dependent upon the length of the copy in each line item. >5 can become too cramped, and <3 becomes too focused and can make it seem that the user is missing key information and will therefore feel limited during the user experience.\n",
      "\n",
      "Furthermore, the vertical drop-down navigation menu should be kept to a maximum of 8-10 line items. This keeps the line items above the fold, focused enough to direct the user to their desired location and general enough to ensure that the users are provided with adequate information to empower them with choices.\n",
      "\n",
      "The navigation structure should compile the available information into a single, convenient page. The question to be asked here is: What information can be displayed on the landing page out of the current nav bar line items?\n",
      "\n",
      "There is a lack of data driven decision making and there should be time and attention paid to how providers are currently finding information on the providers page (user interviews). An exercise that would be valuable and time-efficient to provide valuable data to inform an updated nav would be a card sorting session with providers. We should allocate time and attention to an exercise such as this.\n",
      "\n",
      "Model:\n",
      "Here's the copy reorganized into a coherent paragraph script:\n",
      "While there's a clear need to improve the providers page - it should sell, inform, and empower providers with the information they need - there are current usability issues that make it difficult for them to find what they're looking for. We need to understand why this is happening through user research (e.g., card sorting sessions with providers).\n",
      "However, a new standardized information architecture (IA) is coming from Design Ops soon, so any navigation redesign needs to consider this upcoming change to avoid wasted effort. Luckily, Design Ops is open to implementing reasonable suggestions within best-practice IA/UI design principles, but we need to be mindful of their workload.\n",
      "For the horizontal navigation bar, 4-5 items is the sweet spot to avoid clutter or feeling limited. Similarly, the vertical dropdown menu should target 8-10 items to keep them accessible and informative. Ideally, the navigation structure should consolidate information onto a single, user-friendly landing page. To achieve this, we should analyze which current navigation bar items can be displayed there.\n",
      "In short, let's prioritize data-driven decision making. User interviews can shed light on how providers currently find information. A card sorting session with providers would be a valuable and time-efficient way to inform the navigation update.\n",
      "Summarise this page into an engaging and comprehensive format including the images contained within the webpage:\n",
      "https://www.nngroup.com/articles/card-sorting-definition/\n"
     ]
    }
   ],
   "source": [
    "file_path='E:\\STACKER BEE\\screenshot\\HTML\\Feedback\\Outlier (5_23_2024 5_35_32 PM).html'\n",
    "target_class='prose prose-neutral prose-sm max-w-none [&>pre]:p-0 [&>pre]:rounded-lg'\n",
    "read_content(file_path,'div',target_class)"
   ]
  },
  {
   "cell_type": "code",
   "execution_count": 12,
   "id": "64439371",
   "metadata": {},
   "outputs": [
    {
     "data": {
      "text/plain": [
       "[<em class=\"jsx-fde272208c44e14d\">Chat</em>,\n",
       " <em class=\"jsx-fde272208c44e14d\">6646b9e7d53953c11dff12d2</em>,\n",
       " <em class=\"jsx-fde272208c44e14d\">664ed3325a1eb9b3fd5cbb28</em>,\n",
       " <em class=\"jsx-fde272208c44e14d\">05-23-24</em>,\n",
       " <em class=\"jsx-fde272208c44e14d\">05-23-24</em>,\n",
       " <em class=\"jsx-fde272208c44e14d\">5/5</em>]"
      ]
     },
     "execution_count": 12,
     "metadata": {},
     "output_type": "execute_result"
    }
   ],
   "source": [
    "em_elements"
   ]
  },
  {
   "cell_type": "code",
   "execution_count": null,
   "id": "1f6fd7a4",
   "metadata": {},
   "outputs": [],
   "source": [
    "def task_id_details(soup):\n",
    "    target_class='jsx-fde272208c44e14d'\n",
    "    em_elements = soup.find_all('em', class_=target_class)\n",
    "    count=1\n",
    "    for em in em_elements:\n",
    "        if count==1:\n",
    "            continue\n",
    "        elif count==2:\n",
    "            Task_ID=em\n",
    "        elif count==3:\n",
    "            Attempt_ID=em\n",
    "        elif count==4:\n",
    "            Submit_date=em\n",
    "        elif count==5:\n",
    "            Corrected_date=em\n",
    "        else:\n",
    "            Score=em\n",
    "    return Task_ID,Attempt_ID,Submit_date,Corrected_date,Score\n",
    "            \n",
    "            \n",
    "    \n",
    "    "
   ]
  },
  {
   "cell_type": "code",
   "execution_count": 17,
   "id": "0cd356d3",
   "metadata": {},
   "outputs": [],
   "source": [
    "from bs4 import BeautifulSoup\n",
    "\n",
    "def task_id_details(soup):\n",
    "    from bs4 import BeautifulSoup\n",
    "    target_class = 'jsx-fde272208c44e14d'\n",
    "    em_elements = soup.find_all('em', class_=target_class)\n",
    "    \n",
    "    # Create a list to map count to attribute names\n",
    "    attributes = [\"Task_ID\", \"Attempt_ID\", \"Submit_date\", \"Corrected_date\", \"Score\"]\n",
    "    details = {}\n",
    "\n",
    "    for count, em in enumerate(em_elements, start=1):\n",
    "        if count > 1 and count <= len(attributes) + 1:\n",
    "            details[attributes[count-2]] = em.get_text()\n",
    "\n",
    "    return (details.get(\"Task_ID\"), details.get(\"Attempt_ID\"), details.get(\"Submit_date\"), \n",
    "            details.get(\"Corrected_date\"), details.get(\"Score\"))"
   ]
  },
  {
   "cell_type": "code",
   "execution_count": 40,
   "id": "ae5b5aae",
   "metadata": {},
   "outputs": [],
   "source": [
    "def is_multiturn(soup):\n",
    "  \n",
    "    # Locate the outermost div\n",
    "    outer_div = soup.find('div', class_='py-2 px-4 border-t border-neutral-100')\n",
    "    \n",
    "    if not outer_div:\n",
    "        return False\n",
    "    \n",
    "    # Locate the nested target div\n",
    "    target_div = outer_div.find('div', class_='prose prose-neutral prose-sm max-w-none [&>pre]:p-0 [&>pre]:rounded-lg')\n",
    "    \n",
    "    if not target_div:\n",
    "        return False\n",
    "    \n",
    "    # Check for any content within the target div\n",
    "    if target_div.get_text(strip=True) or target_div.find():\n",
    "        return True\n",
    "    \n",
    "    return False"
   ]
  },
  {
   "cell_type": "code",
   "execution_count": 21,
   "id": "b33469ca",
   "metadata": {},
   "outputs": [
    {
     "data": {
      "text/plain": [
       "False"
      ]
     },
     "execution_count": 21,
     "metadata": {},
     "output_type": "execute_result"
    }
   ],
   "source": [
    "is_multiturn(soup)"
   ]
  },
  {
   "cell_type": "code",
   "execution_count": 41,
   "id": "c7051521",
   "metadata": {},
   "outputs": [
    {
     "data": {
      "text/plain": [
       "False"
      ]
     },
     "execution_count": 41,
     "metadata": {},
     "output_type": "execute_result"
    }
   ],
   "source": [
    "multiturn_html =\"E:\\STACKER BEE\\screenshot\\HTML\\Feedback\\Outlier (5_20_2024 7_21_30 PM).html\"\n",
    "with open(multiturn_html, 'r', encoding='utf-8') as file:\n",
    "    html_content = file.read()\n",
    "soup = BeautifulSoup(html_content, 'lxml')\n",
    "is_multiturn(soup)"
   ]
  },
  {
   "cell_type": "code",
   "execution_count": 42,
   "id": "23d8f366",
   "metadata": {},
   "outputs": [
    {
     "data": {
      "text/plain": [
       "False"
      ]
     },
     "execution_count": 42,
     "metadata": {},
     "output_type": "execute_result"
    }
   ],
   "source": [
    "singleturn_html='E:\\STACKER BEE\\screenshot\\HTML\\Feedback\\Outlier (5_23_2024 5_35_32 PM).html'\n",
    "with open(singleturn_html, 'r', encoding='utf-8') as file:\n",
    "    html_content = file.read()\n",
    "soup = BeautifulSoup(html_content, 'lxml')\n",
    "is_multiturn(soup)"
   ]
  },
  {
   "cell_type": "code",
   "execution_count": null,
   "id": "4e0ea692",
   "metadata": {},
   "outputs": [],
   "source": []
  }
 ],
 "metadata": {
  "kernelspec": {
   "display_name": "dsvenv",
   "language": "python",
   "name": "dsvenv"
  },
  "language_info": {
   "codemirror_mode": {
    "name": "ipython",
    "version": 3
   },
   "file_extension": ".py",
   "mimetype": "text/x-python",
   "name": "python",
   "nbconvert_exporter": "python",
   "pygments_lexer": "ipython3",
   "version": "3.10.11"
  },
  "varInspector": {
   "cols": {
    "lenName": 16,
    "lenType": 16,
    "lenVar": 40
   },
   "kernels_config": {
    "python": {
     "delete_cmd_postfix": "",
     "delete_cmd_prefix": "del ",
     "library": "var_list.py",
     "varRefreshCmd": "print(var_dic_list())"
    },
    "r": {
     "delete_cmd_postfix": ") ",
     "delete_cmd_prefix": "rm(",
     "library": "var_list.r",
     "varRefreshCmd": "cat(var_dic_list()) "
    }
   },
   "types_to_exclude": [
    "module",
    "function",
    "builtin_function_or_method",
    "instance",
    "_Feature"
   ],
   "window_display": false
  }
 },
 "nbformat": 4,
 "nbformat_minor": 5
}
